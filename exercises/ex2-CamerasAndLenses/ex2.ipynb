{
 "cells": [
  {
   "cell_type": "markdown",
   "metadata": {},
   "source": [
    "### Exercise 1"
   ]
  },
  {
   "cell_type": "code",
   "execution_count": 26,
   "metadata": {},
   "outputs": [
    {
     "name": "stdout",
     "output_type": "stream",
     "text": [
      "16.69924423399362\n"
     ]
    }
   ],
   "source": [
    "import math \n",
    "\n",
    "def rad2deg(angle):\n",
    "    return angle*180/math.pi\n",
    "\n",
    "a = 10\n",
    "b = 3\n",
    "theta = rad2deg(math.atan2(b, a))\n",
    "print(theta)"
   ]
  },
  {
   "cell_type": "markdown",
   "metadata": {},
   "source": [
    "### Exercise 2"
   ]
  },
  {
   "cell_type": "code",
   "execution_count": 27,
   "metadata": {},
   "outputs": [
    {
     "name": "stdout",
     "output_type": "stream",
     "text": [
      "0.01764705882352941\n",
      "0.015228426395939085\n",
      "0.015045135406218654\n",
      "0.015015015015015015\n"
     ]
    }
   ],
   "source": [
    "def camera_b_distance(f, g):\n",
    "    \"\"\"\n",
    "    camera_b_distance returns the distance (b) where the CCD should be placed\n",
    "    when the object distance (g) and the focal length (f) are given\n",
    "    :param f: Focal length\n",
    "    :param g: Object distance\n",
    "    :return: b, the distance where the CCD should be placed\n",
    "    \"\"\"\n",
    "    return (f*g) / (g - f)\n",
    "f = 0.015\n",
    "g = [0.1, 1, 5, 15]\n",
    "for el in g:\n",
    "    print(camera_b_distance(f, el))"
   ]
  },
  {
   "cell_type": "markdown",
   "metadata": {},
   "source": [
    "### Exercise 3"
   ]
  },
  {
   "cell_type": "code",
   "execution_count": 34,
   "metadata": {},
   "outputs": [
    {
     "name": "stdout",
     "output_type": "stream",
     "text": [
      "1. The distance from the camera to the lens is 5.005005005005005 mm\n",
      "2. Thomas is 1.8018018018018018 mm tall\n",
      "3. Each pixel is 0.01 mm\n",
      "4. Thomas is 180.18018018018017 pixels tall\n",
      "5. The horizontal field of view is 65.23848614238565\n",
      "5. The vertical field of view is 51.28201164861056\n"
     ]
    }
   ],
   "source": [
    "G = 1.8\n",
    "g = 5\n",
    "f = 5/1000\n",
    "b = camera_b_distance(f, g) * 1000\n",
    "print(f\"1. The distance from the camera to the lens is {b} mm\")\n",
    "\n",
    "B = b * G / g \n",
    "print(f\"2. Thomas is {B} mm tall\")\n",
    "\n",
    "pixel = 6.4/640\n",
    "print(f\"3. Each pixel is {pixel} mm\")\n",
    "\n",
    "print(f\"4. Thomas is {B/pixel} pixels tall\")\n",
    "\n",
    "hfov = math.degrees(2*math.atan(6.4/(2*5)))\n",
    "vfov = math.degrees(2*math.atan(4.8/(2*5)))\n",
    "\n",
    "print(f\"5. The horizontal field of view is {hfov}\")\n",
    "print(f\"5. The vertical field of view is {vfov}\")\n"
   ]
  }
 ],
 "metadata": {
  "kernelspec": {
   "display_name": "course02502",
   "language": "python",
   "name": "python3"
  },
  "language_info": {
   "codemirror_mode": {
    "name": "ipython",
    "version": 3
   },
   "file_extension": ".py",
   "mimetype": "text/x-python",
   "name": "python",
   "nbconvert_exporter": "python",
   "pygments_lexer": "ipython3",
   "version": "3.9.18"
  },
  "orig_nbformat": 4
 },
 "nbformat": 4,
 "nbformat_minor": 2
}

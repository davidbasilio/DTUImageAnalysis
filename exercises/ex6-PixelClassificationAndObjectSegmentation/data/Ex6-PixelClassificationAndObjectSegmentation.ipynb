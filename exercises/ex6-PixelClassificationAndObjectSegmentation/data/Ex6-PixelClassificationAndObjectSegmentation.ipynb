{
 "cells": [
  {
   "cell_type": "code",
   "execution_count": null,
   "metadata": {},
   "outputs": [],
   "source": [
    "from skimage import io, color\n",
    "from skimage.morphology import binary_closing, binary_opening\n",
    "from skimage.morphology import disk\n",
    "import matplotlib.pyplot as plt\n",
    "import numpy as np\n",
    "from skimage import measure\n",
    "from skimage.color import label2rgb\n",
    "import pydicom as dicom\n",
    "from scipy.stats import norm\n",
    "from scipy.spatial import distance\n",
    "\n",
    "\n",
    "def show_comparison(original, modified, modified_name):\n",
    "    fig, (ax1, ax2) = plt.subplots(ncols=2, figsize=(8, 4), sharex=True,\n",
    "                                   sharey=True)\n",
    "    ax1.imshow(original, cmap=\"gray\", vmin=-200, vmax=500)\n",
    "    ax1.set_title('Original')\n",
    "    ax1.axis('off')\n",
    "    ax2.imshow(modified)\n",
    "    ax2.set_title(modified_name)\n",
    "    ax2.axis('off')\n",
    "    io.show()"
   ]
  }
 ],
 "metadata": {
  "language_info": {
   "name": "python"
  }
 },
 "nbformat": 4,
 "nbformat_minor": 2
}

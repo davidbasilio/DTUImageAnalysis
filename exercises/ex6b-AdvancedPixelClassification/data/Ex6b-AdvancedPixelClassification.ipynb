{
 "cells": [
  {
   "cell_type": "code",
   "execution_count": null,
   "metadata": {},
   "outputs": [],
   "source": [
    "import numpy as np\n",
    "import matplotlib.pyplot as plt\n",
    "import scipy.io as sio"
   ]
  },
  {
   "cell_type": "code",
   "execution_count": null,
   "metadata": {},
   "outputs": [],
   "source": [
    "in_dir = 'data/'\n",
    "in_file = 'ex6_ImagData2Load.mat'\n",
    "data = sio.loadmat(in_dir + in_file)\n",
    "ImgT1 = data['ImgT1']\n",
    "ImgT2 = data['ImgT2']\n",
    "ROI_GM = data['ROI_GM']\n",
    "ROI_WM = data['ROI_WM']"
   ]
  }
 ],
 "metadata": {
  "language_info": {
   "name": "python"
  }
 },
 "nbformat": 4,
 "nbformat_minor": 2
}
